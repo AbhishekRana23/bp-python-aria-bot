{
  "nbformat": 4,
  "nbformat_minor": 0,
  "metadata": {
    "colab": {
      "name": "Untitled7.ipynb",
      "provenance": []
    },
    "kernelspec": {
      "name": "python3",
      "display_name": "Python 3"
    },
    "accelerator": "GPU"
  },
  "cells": [
    {
      "cell_type": "code",
      "metadata": {
        "id": "DeQjU_68SDrx",
        "colab_type": "code",
        "colab": {}
      },
      "source": [
        "#@title Install Requirements And Clone Repo { display-mode: \"form\" }\n",
        "!git clone https://github.com/AbhishekRana23/bp-python-aria-bot\n",
        "%cd bp-python-aria-bot\n",
        "!apt-get update\n",
        "!apt-get install -y aria2\n",
        "!pip install --no-cache-dir -r requirements.txt"
      ],
      "execution_count": 0,
      "outputs": []
    },
    {
      "cell_type": "code",
      "metadata": {
        "id": "jVRx78SaOz-g",
        "colab_type": "code",
        "colab": {}
      },
      "source": [
        "#@title Upload Config.ini Here { display-mode: \"form\" }\n",
        "%cd /content/bp-python-aria-bot/bot\n",
        "from google.colab import files\n",
        "files.upload()"
      ],
      "execution_count": 0,
      "outputs": []
    },
    {
      "cell_type": "code",
      "metadata": {
        "id": "4yKoycKrWQf8",
        "colab_type": "code",
        "colab": {}
      },
      "source": [
        "#@title Upload Credentials.json  And Create A New token.pickle file (skip if you already have token.pickle) { display-mode: \"form\" }\n",
        "%cd /content/bp-python-aria-bot\n",
        "from google.colab import files\n",
        "files.upload()\n",
        "!pip install google-api-python-client google-auth-httplib2 google-auth-oauthlib\n",
        "!python3 generate_drive_token.py"
      ],
      "execution_count": 0,
      "outputs": []
    },
    {
      "cell_type": "code",
      "metadata": {
        "id": "3P2D-xbjTaEx",
        "colab_type": "code",
        "colab": {}
      },
      "source": [
        "#@title Upload Your Already Created Token.Pickle Here  { display-mode: \"form\" }\n",
        "%cd /content/bp-python-aria-bot\n",
        "from google.colab import files\n",
        "files.upload()"
      ],
      "execution_count": 0,
      "outputs": []
    },
    {
      "cell_type": "code",
      "metadata": {
        "id": "Fj5f1SK-KgiY",
        "colab_type": "code",
        "colab": {}
      },
      "source": [
        "#@title Run The Bot { display-mode: \"form\" }\n",
        "!chmod +x /content/bp-python-aria-bot\n",
        "!./start.sh"
      ],
      "execution_count": 0,
      "outputs": []
    }
  ]
}